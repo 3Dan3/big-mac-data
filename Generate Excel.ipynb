{
 "cells": [
  {
   "cell_type": "code",
   "execution_count": 7,
   "metadata": {},
   "outputs": [],
   "source": [
    "library('r2excel')\n",
    "library('magrittr')\n",
    "library('data.table')"
   ]
  },
  {
   "cell_type": "code",
   "execution_count": 60,
   "metadata": {},
   "outputs": [
    {
     "data": {
      "text/html": [
       "<table>\n",
       "<thead><tr><th scope=col>date</th><th scope=col>Country</th><th scope=col>iso_a3</th><th scope=col>currency_code</th><th scope=col>local_price</th><th scope=col>dollar_ex</th><th scope=col>dollar_price</th><th scope=col>dollar_ppp</th><th scope=col>dollar_valuation</th><th scope=col>euro_valuation</th><th scope=col>sterling_valuation</th><th scope=col>yen_valuation</th><th scope=col>yuan_valuation</th><th scope=col>dollar_adj_valuation</th><th scope=col>euro_adj_valuation</th><th scope=col>sterling_adj_valuation</th><th scope=col>yen_adj_valuation</th><th scope=col>yuan_adj_valuation</th></tr></thead>\n",
       "<tbody>\n",
       "\t<tr><td>2018-01-01   </td><td>Taiwan       </td><td>TWN          </td><td>TWD          </td><td>   69.00     </td><td>   29.55300  </td><td>2.334788     </td><td>   13.068182 </td><td>-0.558       </td><td>-0.517       </td><td>-0.471       </td><td>-0.320       </td><td>-0.264       </td><td>-0.380       </td><td>-0.447       </td><td>-0.365       </td><td>-0.192       </td><td>-0.385       </td></tr>\n",
       "\t<tr><td>2018-01-01   </td><td>Ukraine      </td><td>UKR          </td><td>UAH          </td><td>   47.00     </td><td>   28.71500  </td><td>1.636775     </td><td>    8.901515 </td><td>-0.690       </td><td>-0.662       </td><td>-0.629       </td><td>-0.523       </td><td>-0.484       </td><td>    NA       </td><td>    NA       </td><td>    NA       </td><td>    NA       </td><td>    NA       </td></tr>\n",
       "\t<tr><td>2018-01-01   </td><td>Uruguay      </td><td>URY          </td><td>UYU          </td><td>  140.00     </td><td>   28.58000  </td><td>4.898530     </td><td>   26.515152 </td><td>-0.072       </td><td> 0.013       </td><td> 0.110       </td><td> 0.427       </td><td> 0.544       </td><td>    NA       </td><td>    NA       </td><td>    NA       </td><td>    NA       </td><td>    NA       </td></tr>\n",
       "\t<tr><td>2018-01-01   </td><td>United States</td><td>USA          </td><td>USD          </td><td>    5.28     </td><td>    1.00000  </td><td>5.280000     </td><td>    1.000000 </td><td> 0.000       </td><td> 0.092       </td><td> 0.196       </td><td> 0.538       </td><td> 0.665       </td><td> 0.000       </td><td>-0.108       </td><td> 0.025       </td><td> 0.304       </td><td>-0.007       </td></tr>\n",
       "\t<tr><td>2018-01-01   </td><td>Vietnam      </td><td>VNM          </td><td>VND          </td><td>65000.00     </td><td>22711.50000  </td><td>2.861986     </td><td>12310.606061 </td><td>-0.458       </td><td>-0.408       </td><td>-0.351       </td><td>-0.166       </td><td>-0.098       </td><td>    NA       </td><td>    NA       </td><td>    NA       </td><td>    NA       </td><td>    NA       </td></tr>\n",
       "\t<tr><td>2018-01-01   </td><td>South Africa </td><td>ZAF          </td><td>ZAR          </td><td>   30.00     </td><td>   12.25815  </td><td>2.447351     </td><td>    5.681818 </td><td>-0.536       </td><td>-0.494       </td><td>-0.445       </td><td>-0.287       </td><td>-0.228       </td><td>-0.192       </td><td>-0.279       </td><td>-0.171       </td><td> 0.054       </td><td>-0.197       </td></tr>\n",
       "</tbody>\n",
       "</table>\n"
      ],
      "text/latex": [
       "\\begin{tabular}{r|llllllllllllllllll}\n",
       " date & Country & iso\\_a3 & currency\\_code & local\\_price & dollar\\_ex & dollar\\_price & dollar\\_ppp & dollar\\_valuation & euro\\_valuation & sterling\\_valuation & yen\\_valuation & yuan\\_valuation & dollar\\_adj\\_valuation & euro\\_adj\\_valuation & sterling\\_adj\\_valuation & yen\\_adj\\_valuation & yuan\\_adj\\_valuation\\\\\n",
       "\\hline\n",
       "\t 2018-01-01    & Taiwan        & TWN           & TWD           &    69.00      &    29.55300   & 2.334788      &    13.068182  & -0.558        & -0.517        & -0.471        & -0.320        & -0.264        & -0.380        & -0.447        & -0.365        & -0.192        & -0.385       \\\\\n",
       "\t 2018-01-01    & Ukraine       & UKR           & UAH           &    47.00      &    28.71500   & 1.636775      &     8.901515  & -0.690        & -0.662        & -0.629        & -0.523        & -0.484        &     NA        &     NA        &     NA        &     NA        &     NA       \\\\\n",
       "\t 2018-01-01    & Uruguay       & URY           & UYU           &   140.00      &    28.58000   & 4.898530      &    26.515152  & -0.072        &  0.013        &  0.110        &  0.427        &  0.544        &     NA        &     NA        &     NA        &     NA        &     NA       \\\\\n",
       "\t 2018-01-01    & United States & USA           & USD           &     5.28      &     1.00000   & 5.280000      &     1.000000  &  0.000        &  0.092        &  0.196        &  0.538        &  0.665        &  0.000        & -0.108        &  0.025        &  0.304        & -0.007       \\\\\n",
       "\t 2018-01-01    & Vietnam       & VNM           & VND           & 65000.00      & 22711.50000   & 2.861986      & 12310.606061  & -0.458        & -0.408        & -0.351        & -0.166        & -0.098        &     NA        &     NA        &     NA        &     NA        &     NA       \\\\\n",
       "\t 2018-01-01    & South Africa  & ZAF           & ZAR           &    30.00      &    12.25815   & 2.447351      &     5.681818  & -0.536        & -0.494        & -0.445        & -0.287        & -0.228        & -0.192        & -0.279        & -0.171        &  0.054        & -0.197       \\\\\n",
       "\\end{tabular}\n"
      ],
      "text/markdown": [
       "\n",
       "date | Country | iso_a3 | currency_code | local_price | dollar_ex | dollar_price | dollar_ppp | dollar_valuation | euro_valuation | sterling_valuation | yen_valuation | yuan_valuation | dollar_adj_valuation | euro_adj_valuation | sterling_adj_valuation | yen_adj_valuation | yuan_adj_valuation | \n",
       "|---|---|---|---|---|---|\n",
       "| 2018-01-01    | Taiwan        | TWN           | TWD           |    69.00      |    29.55300   | 2.334788      |    13.068182  | -0.558        | -0.517        | -0.471        | -0.320        | -0.264        | -0.380        | -0.447        | -0.365        | -0.192        | -0.385        | \n",
       "| 2018-01-01    | Ukraine       | UKR           | UAH           |    47.00      |    28.71500   | 1.636775      |     8.901515  | -0.690        | -0.662        | -0.629        | -0.523        | -0.484        |     NA        |     NA        |     NA        |     NA        |     NA        | \n",
       "| 2018-01-01    | Uruguay       | URY           | UYU           |   140.00      |    28.58000   | 4.898530      |    26.515152  | -0.072        |  0.013        |  0.110        |  0.427        |  0.544        |     NA        |     NA        |     NA        |     NA        |     NA        | \n",
       "| 2018-01-01    | United States | USA           | USD           |     5.28      |     1.00000   | 5.280000      |     1.000000  |  0.000        |  0.092        |  0.196        |  0.538        |  0.665        |  0.000        | -0.108        |  0.025        |  0.304        | -0.007        | \n",
       "| 2018-01-01    | Vietnam       | VNM           | VND           | 65000.00      | 22711.50000   | 2.861986      | 12310.606061  | -0.458        | -0.408        | -0.351        | -0.166        | -0.098        |     NA        |     NA        |     NA        |     NA        |     NA        | \n",
       "| 2018-01-01    | South Africa  | ZAF           | ZAR           |    30.00      |    12.25815   | 2.447351      |     5.681818  | -0.536        | -0.494        | -0.445        | -0.287        | -0.228        | -0.192        | -0.279        | -0.171        |  0.054        | -0.197        | \n",
       "\n",
       "\n"
      ],
      "text/plain": [
       "  date       Country       iso_a3 currency_code local_price dollar_ex  \n",
       "1 2018-01-01 Taiwan        TWN    TWD              69.00       29.55300\n",
       "2 2018-01-01 Ukraine       UKR    UAH              47.00       28.71500\n",
       "3 2018-01-01 Uruguay       URY    UYU             140.00       28.58000\n",
       "4 2018-01-01 United States USA    USD               5.28        1.00000\n",
       "5 2018-01-01 Vietnam       VNM    VND           65000.00    22711.50000\n",
       "6 2018-01-01 South Africa  ZAF    ZAR              30.00       12.25815\n",
       "  dollar_price dollar_ppp   dollar_valuation euro_valuation sterling_valuation\n",
       "1 2.334788        13.068182 -0.558           -0.517         -0.471            \n",
       "2 1.636775         8.901515 -0.690           -0.662         -0.629            \n",
       "3 4.898530        26.515152 -0.072            0.013          0.110            \n",
       "4 5.280000         1.000000  0.000            0.092          0.196            \n",
       "5 2.861986     12310.606061 -0.458           -0.408         -0.351            \n",
       "6 2.447351         5.681818 -0.536           -0.494         -0.445            \n",
       "  yen_valuation yuan_valuation dollar_adj_valuation euro_adj_valuation\n",
       "1 -0.320        -0.264         -0.380               -0.447            \n",
       "2 -0.523        -0.484             NA                   NA            \n",
       "3  0.427         0.544             NA                   NA            \n",
       "4  0.538         0.665          0.000               -0.108            \n",
       "5 -0.166        -0.098             NA                   NA            \n",
       "6 -0.287        -0.228         -0.192               -0.279            \n",
       "  sterling_adj_valuation yen_adj_valuation yuan_adj_valuation\n",
       "1 -0.365                 -0.192            -0.385            \n",
       "2     NA                     NA                NA            \n",
       "3     NA                     NA                NA            \n",
       "4  0.025                  0.304            -0.007            \n",
       "5     NA                     NA                NA            \n",
       "6 -0.171                  0.054            -0.197            "
      ]
     },
     "metadata": {},
     "output_type": "display_data"
    }
   ],
   "source": [
    "data = fread('./output-data/big-mac-full-index.csv') %>%\n",
    "    .[, .(\n",
    "        Country = name,\n",
    "        iso_a3,\n",
    "        currency_code,\n",
    "        local_price,\n",
    "        dollar_ex,\n",
    "        dollar_price,\n",
    "        dollar_ppp = dollar_ex * dollar_price / .SD[currency_code == 'USD']$dollar_price,\n",
    "        dollar_valuation = USD_raw,\n",
    "        euro_valuation = EUR_raw,\n",
    "        sterling_valuation = GBP_raw,\n",
    "        yen_valuation = JPY_raw,\n",
    "        yuan_valuation = CNY_raw,\n",
    "        dollar_adj_valuation = USD_adjusted,\n",
    "        euro_adj_valuation = EUR_adjusted,\n",
    "        sterling_adj_valuation = GBP_adjusted,\n",
    "        yen_adj_valuation = JPY_adjusted,\n",
    "        yuan_adj_valuation = CNY_adjusted\n",
    "    ), by=date]\n",
    "tail(data)"
   ]
  },
  {
   "cell_type": "code",
   "execution_count": 9,
   "metadata": {},
   "outputs": [
    {
     "data": {
      "text/html": [
       "<ol class=list-inline>\n",
       "\t<li>'2000-04-01'</li>\n",
       "\t<li>'2001-04-01'</li>\n",
       "\t<li>'2002-04-01'</li>\n",
       "\t<li>'2003-04-01'</li>\n",
       "\t<li>'2004-05-01'</li>\n",
       "\t<li>'2005-06-01'</li>\n",
       "\t<li>'2006-01-01'</li>\n",
       "\t<li>'2006-05-01'</li>\n",
       "\t<li>'2007-01-01'</li>\n",
       "\t<li>'2007-06-01'</li>\n",
       "\t<li>'2008-06-01'</li>\n",
       "\t<li>'2009-07-01'</li>\n",
       "\t<li>'2010-01-01'</li>\n",
       "\t<li>'2010-07-01'</li>\n",
       "\t<li>'2011-07-01'</li>\n",
       "\t<li>'2012-01-01'</li>\n",
       "\t<li>'2012-07-01'</li>\n",
       "\t<li>'2013-01-01'</li>\n",
       "\t<li>'2013-07-01'</li>\n",
       "\t<li>'2014-01-01'</li>\n",
       "\t<li>'2014-07-01'</li>\n",
       "\t<li>'2015-01-01'</li>\n",
       "\t<li>'2015-07-01'</li>\n",
       "\t<li>'2016-01-01'</li>\n",
       "\t<li>'2016-07-01'</li>\n",
       "\t<li>'2017-01-01'</li>\n",
       "\t<li>'2017-07-01'</li>\n",
       "\t<li>'2018-01-01'</li>\n",
       "</ol>\n"
      ],
      "text/latex": [
       "\\begin{enumerate*}\n",
       "\\item '2000-04-01'\n",
       "\\item '2001-04-01'\n",
       "\\item '2002-04-01'\n",
       "\\item '2003-04-01'\n",
       "\\item '2004-05-01'\n",
       "\\item '2005-06-01'\n",
       "\\item '2006-01-01'\n",
       "\\item '2006-05-01'\n",
       "\\item '2007-01-01'\n",
       "\\item '2007-06-01'\n",
       "\\item '2008-06-01'\n",
       "\\item '2009-07-01'\n",
       "\\item '2010-01-01'\n",
       "\\item '2010-07-01'\n",
       "\\item '2011-07-01'\n",
       "\\item '2012-01-01'\n",
       "\\item '2012-07-01'\n",
       "\\item '2013-01-01'\n",
       "\\item '2013-07-01'\n",
       "\\item '2014-01-01'\n",
       "\\item '2014-07-01'\n",
       "\\item '2015-01-01'\n",
       "\\item '2015-07-01'\n",
       "\\item '2016-01-01'\n",
       "\\item '2016-07-01'\n",
       "\\item '2017-01-01'\n",
       "\\item '2017-07-01'\n",
       "\\item '2018-01-01'\n",
       "\\end{enumerate*}\n"
      ],
      "text/markdown": [
       "1. '2000-04-01'\n",
       "2. '2001-04-01'\n",
       "3. '2002-04-01'\n",
       "4. '2003-04-01'\n",
       "5. '2004-05-01'\n",
       "6. '2005-06-01'\n",
       "7. '2006-01-01'\n",
       "8. '2006-05-01'\n",
       "9. '2007-01-01'\n",
       "10. '2007-06-01'\n",
       "11. '2008-06-01'\n",
       "12. '2009-07-01'\n",
       "13. '2010-01-01'\n",
       "14. '2010-07-01'\n",
       "15. '2011-07-01'\n",
       "16. '2012-01-01'\n",
       "17. '2012-07-01'\n",
       "18. '2013-01-01'\n",
       "19. '2013-07-01'\n",
       "20. '2014-01-01'\n",
       "21. '2014-07-01'\n",
       "22. '2015-01-01'\n",
       "23. '2015-07-01'\n",
       "24. '2016-01-01'\n",
       "25. '2016-07-01'\n",
       "26. '2017-01-01'\n",
       "27. '2017-07-01'\n",
       "28. '2018-01-01'\n",
       "\n",
       "\n"
      ],
      "text/plain": [
       " [1] \"2000-04-01\" \"2001-04-01\" \"2002-04-01\" \"2003-04-01\" \"2004-05-01\"\n",
       " [6] \"2005-06-01\" \"2006-01-01\" \"2006-05-01\" \"2007-01-01\" \"2007-06-01\"\n",
       "[11] \"2008-06-01\" \"2009-07-01\" \"2010-01-01\" \"2010-07-01\" \"2011-07-01\"\n",
       "[16] \"2012-01-01\" \"2012-07-01\" \"2013-01-01\" \"2013-07-01\" \"2014-01-01\"\n",
       "[21] \"2014-07-01\" \"2015-01-01\" \"2015-07-01\" \"2016-01-01\" \"2016-07-01\"\n",
       "[26] \"2017-01-01\" \"2017-07-01\" \"2018-01-01\""
      ]
     },
     "metadata": {},
     "output_type": "display_data"
    }
   ],
   "source": [
    "dates = data$date %>% unique\n",
    "dates"
   ]
  },
  {
   "cell_type": "code",
   "execution_count": 61,
   "metadata": {
    "collapsed": true
   },
   "outputs": [],
   "source": [
    "?xlsx.addTable"
   ]
  },
  {
   "cell_type": "code",
   "execution_count": 66,
   "metadata": {
    "scrolled": false
   },
   "outputs": [],
   "source": [
    "wb = createWorkbook(type='xls')\n",
    "\n",
    "for(sheetDate in sort(dates, decreasing = T)) {\n",
    "    dateStr = sheetDate %>% strftime(format='%b%Y')\n",
    "    sheet = createSheet(wb, sheetName = dateStr)\n",
    "    xlsx.addTable(wb, sheet, data[date == sheetDate, -1], row.names=FALSE, startCol=1)\n",
    "}\n",
    "\n",
    "saveWorkbook(wb, 'exceltest.xls')"
   ]
  },
  {
   "cell_type": "code",
   "execution_count": null,
   "metadata": {
    "collapsed": true
   },
   "outputs": [],
   "source": []
  }
 ],
 "metadata": {
  "kernelspec": {
   "display_name": "R",
   "language": "R",
   "name": "ir"
  },
  "language_info": {
   "codemirror_mode": "r",
   "file_extension": ".r",
   "mimetype": "text/x-r-source",
   "name": "R",
   "pygments_lexer": "r",
   "version": "3.5.0"
  }
 },
 "nbformat": 4,
 "nbformat_minor": 2
}
